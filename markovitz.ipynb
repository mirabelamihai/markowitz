{
 "cells": [
  {
   "cell_type": "code",
   "execution_count": 1,
   "metadata": {},
   "outputs": [
    {
     "name": "stderr",
     "output_type": "stream",
     "text": [
      "[*********************100%%**********************]  2 of 2 completed\n"
     ]
    }
   ],
   "source": [
    "import yfinance as yf\n",
    "import numpy as np\n",
    "\n",
    "a = yf.download(['AAPL', 'MSFT'], start=\"2013-12-31\", end=\"2024-06-05\")\n"
   ]
  },
  {
   "cell_type": "code",
   "execution_count": 7,
   "metadata": {},
   "outputs": [
    {
     "data": {
      "text/plain": [
       "MultiIndex([('Adj Close', 'AAPL'),\n",
       "            ('Adj Close', 'MSFT'),\n",
       "            (    'Close', 'AAPL'),\n",
       "            (    'Close', 'MSFT'),\n",
       "            (     'High', 'AAPL'),\n",
       "            (     'High', 'MSFT'),\n",
       "            (      'Low', 'AAPL'),\n",
       "            (      'Low', 'MSFT'),\n",
       "            (     'Open', 'AAPL'),\n",
       "            (     'Open', 'MSFT'),\n",
       "            (   'Volume', 'AAPL'),\n",
       "            (   'Volume', 'MSFT')],\n",
       "           names=['Price', 'Ticker'])"
      ]
     },
     "execution_count": 7,
     "metadata": {},
     "output_type": "execute_result"
    }
   ],
   "source": [
    "# print(\"date\",a)\n",
    "# print(a)\n",
    "a.keys()\n"
   ]
  }
 ],
 "metadata": {
  "kernelspec": {
   "display_name": "Python 3",
   "language": "python",
   "name": "python3"
  },
  "language_info": {
   "codemirror_mode": {
    "name": "ipython",
    "version": 3
   },
   "file_extension": ".py",
   "mimetype": "text/x-python",
   "name": "python",
   "nbconvert_exporter": "python",
   "pygments_lexer": "ipython3",
   "version": "3.11.9"
  }
 },
 "nbformat": 4,
 "nbformat_minor": 2
}
